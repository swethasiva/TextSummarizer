{
 "cells": [
  {
   "cell_type": "code",
   "execution_count": 35,
   "metadata": {},
   "outputs": [],
   "source": [
    "import pandas as pd\n",
    "import numpy as np"
   ]
  },
  {
   "cell_type": "code",
   "execution_count": 36,
   "metadata": {},
   "outputs": [
    {
     "name": "stdout",
     "output_type": "stream",
     "text": [
      "(3, 4)\n",
      "[[1 0 1 1]\n",
      " [2 1 0 2]\n",
      " [2 2 2 1]]\n"
     ]
    }
   ],
   "source": [
    "# Creating Input multi dimensional Array\n",
    "points = np.array([[1, 0, 1, 1], [2, 1, 0, 2], [2, 2, 2, 1]])\n",
    "print(points.shape)\n",
    "print(points)\n",
    "\n",
    "result = np.array([[0.0, 0.0, 0.0], [0.0, 0.0, 0.0], [0.0, 0.0, 0.0]])"
   ]
  },
  {
   "cell_type": "code",
   "execution_count": 37,
   "metadata": {},
   "outputs": [
    {
     "name": "stdout",
     "output_type": "stream",
     "text": [
      "[[0.         2.         2.44948974]\n",
      " [2.         0.         2.44948974]\n",
      " [2.44948974 2.44948974 0.        ]]\n"
     ]
    }
   ],
   "source": [
    "# Calculating Euclidean Distance\n",
    "# distance between (x1, y1) and (x2, y2) is\n",
    "# sqrt((x1-x2)^2 + (y1-y2)^2)\n",
    "for i in range(points.shape[0]):\n",
    "    for j in range(points.shape[0]):\n",
    "        dist_sum=0\n",
    "        for k in range(points.shape[1]):\n",
    "            dist_sum = dist_sum + (points[i][k]-points[j][k])**2\n",
    "        result[i][j] = np.sqrt(dist_sum)  \n",
    "print(result)        \n",
    "        "
   ]
  },
  {
   "cell_type": "code",
   "execution_count": 38,
   "metadata": {},
   "outputs": [
    {
     "name": "stdout",
     "output_type": "stream",
     "text": [
      "0\n",
      "4\n",
      "4\n",
      "4\n",
      "0\n",
      "4\n",
      "4\n",
      "4\n",
      "0\n",
      "[[0. 4. 4.]\n",
      " [4. 0. 4.]\n",
      " [4. 4. 0.]]\n"
     ]
    }
   ],
   "source": [
    "# Calculating Manhattan Distance\n",
    "# distance between (x1, y1) and (x2, y2) is\n",
    "# abs(x1-x2)+abs(y1-y2)\n",
    "for i in range(points.shape[0]):\n",
    "    for j in range(points.shape[0]):\n",
    "        dist_sum=0\n",
    "        for k in range(points.shape[1]):\n",
    "            dist_sum = dist_sum + abs(points[i][k]-points[j][k])\n",
    "        print(dist_sum)\n",
    "        result[i][j] = dist_sum \n",
    "print(result)        \n",
    "        "
   ]
  },
  {
   "cell_type": "code",
   "execution_count": null,
   "metadata": {},
   "outputs": [],
   "source": [
    "# Calculating Cosine Distance\n",
    "# distance between (x1, y1) and (x2, y2) is\n",
    "# (x1.x2 + y1.y2) / (sqrt(x1^2 + y1^2)* sqrt(x2^2 + y2^2))\n",
    "for i in range(points.shape[0]):\n",
    "    for j in range(points.shape[0]):\n",
    "        dist_sum, n1, d1, d2= 0, 0, 0, 0\n",
    "        for k in range(points.shape[1]):\n",
    "            n1 = n1 + abs(points[i][k]*points[j][k])\n",
    "            d1 = d1 + points[i][k]**2\n",
    "            d2 = d2 + points[j][k]**2\n",
    "        d1 = np.sqrt(d1)\n",
    "        d2 = np.sqrt(d2)\n",
    "        dist_sum = n1/(d1*d2)\n",
    "        result[i][j] = dist_sum \n",
    "print(result)      "
   ]
  }
 ],
 "metadata": {
  "kernelspec": {
   "display_name": "Python 3",
   "language": "python",
   "name": "python3"
  },
  "language_info": {
   "codemirror_mode": {
    "name": "ipython",
    "version": 3
   },
   "file_extension": ".py",
   "mimetype": "text/x-python",
   "name": "python",
   "nbconvert_exporter": "python",
   "pygments_lexer": "ipython3",
   "version": "3.6.6"
  }
 },
 "nbformat": 4,
 "nbformat_minor": 2
}
