{
 "cells": [
  {
   "cell_type": "code",
   "execution_count": 11,
   "metadata": {},
   "outputs": [],
   "source": [
    "import pandas as pd\n",
    "import numpy as np\n",
    "import matplotlib.pyplot as plt\n",
    "%matplotlib inline"
   ]
  },
  {
   "cell_type": "code",
   "execution_count": 12,
   "metadata": {},
   "outputs": [],
   "source": [
    "df = pd.DataFrame({'x':[2, 2, 8, 5, 7, 6, 1, 4], 'y': [10, 5, 4, 8, 5, 4, 2, 9]})"
   ]
  },
  {
   "cell_type": "code",
   "execution_count": 13,
   "metadata": {
    "scrolled": false
   },
   "outputs": [
    {
     "name": "stdout",
     "output_type": "stream",
     "text": [
      "{1: [2, 10], 2: [5, 8], 3: [1, 2]}\n"
     ]
    },
    {
     "data": {
      "image/png": "[encoded data removed]",
      "text/plain": [
       "<Figure size 432x288 with 1 Axes>"
      ]
     },
     "metadata": {
      "needs_background": "light"
     },
     "output_type": "display_data"
    }
   ],
   "source": [
    "# When you set a seed, the seed value is multiplied my a large number and then modulo of it is calculated and this becomes the random number selected and this is used as new seed to calculate next random numbers\n",
    "# When we set a seed, the same calculations are repeated. So we get the same random numbers. This can be used for easier debugging\n",
    "# By setting a seed value, Our code will always take in same random numbers and generate the same output.\n",
    "np.random.seed(200) \n",
    "\n",
    "# Define the number of clusters\n",
    "k=3\n",
    "\n",
    "# Creating a Dictionary of Random Initial Centroids\n",
    "#centroids = {\n",
    " #           i+1 : [np.random.randint(0, 80), np.random.randint(0, 80)]\n",
    " #           for i in range(k)\n",
    "        \n",
    "#}\n",
    "\n",
    "centroids = { 1:[2, 10], 2:[5, 8], 3:[1,2]\n",
    "}\n",
    "print(centroids)\n",
    "\n",
    "# Plotting Data Points other than the chosen Centroids\n",
    "plt.scatter(df['x'], df['y'], color='k')\n",
    "\n",
    "# Color Mapping for the clusters\n",
    "colmap = {1: 'r', 2:'g', 3:'b'}\n",
    "\n",
    "# Plotting the Centroids with corresponding Cluster colors\n",
    "\n",
    "for i in centroids.keys():\n",
    "    plt.scatter(*centroids[i], color=colmap[i])\n",
    "plt.xlim(0, 80)\n",
    "plt.ylim(0, 80)\n",
    "plt.show()"
   ]
  },
  {
   "cell_type": "code",
   "execution_count": 14,
   "metadata": {},
   "outputs": [
    {
     "name": "stdout",
     "output_type": "stream",
     "text": [
      "   x   y  distance_from_1  distance_from_2  distance_from_3  closest color\n",
      "0  2  10         0.000000         3.605551         8.062258        1     r\n",
      "1  2   5         5.000000         4.242641         3.162278        3     b\n",
      "2  8   4         8.485281         5.000000         7.280110        2     g\n",
      "3  5   8         3.605551         0.000000         7.211103        2     g\n",
      "4  7   5         7.071068         3.605551         6.708204        2     g\n"
     ]
    },
    {
     "data": {
      "image/png": "[encoded data removed]",
      "text/plain": [
       "<Figure size 432x288 with 1 Axes>"
      ]
     },
     "metadata": {
      "needs_background": "light"
     },
     "output_type": "display_data"
    }
   ],
   "source": [
    "# Function to assign clusters to the dataitems based on eucledian distance from the previously chosen centroids\n",
    "def clusterAssignment(df, centroids):\n",
    "    for i in centroids.keys():\n",
    "        df['distance_from_{}'.format(i)]=(np.sqrt((df['x'] - centroids[i][0])**2 + (df['y'] - centroids[i][1])**2))\n",
    "    \n",
    "    centroid_distance_cols = ['distance_from_{}'.format(i) for i in centroids.keys()]\n",
    "    df['closest'] = df.loc[:, centroid_distance_cols].idxmin(axis=1)\n",
    "    df['closest'] = df['closest'].map(lambda x: int(x.lstrip('distance_from_')))\n",
    "    df['color'] = df['closest'].map(lambda x : colmap[x])\n",
    "    return df\n",
    "\n",
    "df = clusterAssignment(df, centroids)\n",
    "print(df.head())\n",
    "\n",
    "plt.scatter(df['x'], df['y'], color=df['color'], alpha=0.5)\n",
    "for i in centroids.keys():\n",
    "    plt.scatter(*centroids[i], color=colmap[i])\n",
    "\n",
    "plt.xlim(0, 80)\n",
    "plt.ylim(0, 80)\n",
    "plt.show()"
   ]
  },
  {
   "cell_type": "code",
   "execution_count": 16,
   "metadata": {},
   "outputs": [
    {
     "name": "stdout",
     "output_type": "stream",
     "text": [
      "   x   y  distance_from_1  distance_from_2  distance_from_3  closest color\n",
      "0  2  10         1.943651         7.557189         6.519202        1     r\n",
      "1  2   5         4.333333         5.044249         1.581139        3     b\n",
      "2  8   4         6.616478         1.054093         6.519202        2     g\n",
      "3  5   8         1.666667         4.176655         5.700877        1     r\n",
      "4  7   5         5.206833         0.666667         5.700877        2     g\n",
      "5  6   4         5.517648         1.054093         4.527693        2     g\n",
      "6  1   2         7.490735         6.437736         1.581139        3     b\n",
      "7  4   9         0.333333         5.547772         6.041523        1     r\n"
     ]
    },
    {
     "data": {
      "image/png": "[encoded data removed]",
      "text/plain": [
       "<Figure size 432x288 with 1 Axes>"
      ]
     },
     "metadata": {
      "needs_background": "light"
     },
     "output_type": "display_data"
    }
   ],
   "source": [
    "import copy\n",
    "\n",
    "# Copy module has 2 types of copy:\n",
    "# deepcopy(object) - Creates a new object which is an independent copy of the original object \n",
    "# copy(object) - Shallow Copy - creates a new object which references the original object\n",
    "# deepcopy changes doesnt affect the original copy, shallowcopy affects original object values\n",
    "old_centroids = copy.deepcopy(centroids)\n",
    "\n",
    "\n",
    "# Function to recalibarate centroids based on the assignment step\n",
    "def update(k):\n",
    "    for i in centroids.keys():\n",
    "        centroids[i][0] = np.mean(df[df['closest']==i]['x'])\n",
    "        centroids[i][1] = np.mean(df[df['closest']==i]['y'])\n",
    "    return k\n",
    "while True:\n",
    "    closest_centroids = copy.deepcopy(df['closest'])\n",
    "    centroids = update(centroids)\n",
    "    df = clusterAssignment(df, centroids)\n",
    "    if closest_centroids.equals(df['closest']):\n",
    "        break\n",
    "\n",
    "print(df)\n",
    "\n",
    "plt.scatter(df['x'], df['y'], color=df['color'], alpha=0.5)\n",
    "for i in centroids.keys():\n",
    "    plt.scatter(*centroids[i], color=colmap[i])\n",
    "\n",
    "plt.xlim(0, 80)\n",
    "plt.ylim(0, 80)\n",
    "plt.show()"
   ]
  },
  {
   "cell_type": "code",
   "execution_count": null,
   "metadata": {},
   "outputs": [],
   "source": []
  },
  {
   "cell_type": "code",
   "execution_count": null,
   "metadata": {},
   "outputs": [],
   "source": []
  }
 ],
 "metadata": {
  "kernelspec": {
   "display_name": "Python 3",
   "language": "python",
   "name": "python3"
  },
  "language_info": {
   "codemirror_mode": {
    "name": "ipython",
    "version": 3
   },
   "file_extension": ".py",
   "mimetype": "text/x-python",
   "name": "python",
   "nbconvert_exporter": "python",
   "pygments_lexer": "ipython3",
   "version": "3.6.6"
  }
 },
 "nbformat": 4,
 "nbformat_minor": 2
}
